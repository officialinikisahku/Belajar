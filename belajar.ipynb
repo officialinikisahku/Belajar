{
  "nbformat": 4,
  "nbformat_minor": 0,
  "metadata": {
    "colab": {
      "name": "belajar.ipynb",
      "provenance": [],
      "authorship_tag": "ABX9TyM5bQUIeblVy5p0ott5fGE1",
      "include_colab_link": true
    },
    "kernelspec": {
      "name": "python3",
      "display_name": "Python 3"
    },
    "language_info": {
      "name": "python"
    },
    "accelerator": "GPU"
  },
  "cells": [
    {
      "cell_type": "markdown",
      "metadata": {
        "id": "view-in-github",
        "colab_type": "text"
      },
      "source": [
        "<a href=\"https://colab.research.google.com/github/officialinikisahku/Belajar/blob/main/belajar.ipynb\" target=\"_parent\"><img src=\"https://colab.research.google.com/assets/colab-badge.svg\" alt=\"Open In Colab\"/></a>"
      ]
    },
    {
      "cell_type": "code",
      "metadata": {
        "id": "dl9pM2Nv1IQC"
      },
      "source": [
        "# Install colab_ssh on google colab\n",
        "!pip install colab_ssh --upgrade\n",
        "\n",
        "from colab_ssh import launch_ssh_cloudflared\n",
        "launch_ssh_cloudflared(password=\"root\")"
      ],
      "execution_count": null,
      "outputs": []
    },
    {
      "cell_type": "code",
      "metadata": {
        "id": "4IfC_2Cw1YYM"
      },
      "source": [
        "!nvidia-smi"
      ],
      "execution_count": null,
      "outputs": []
    },
    {
      "cell_type": "code",
      "metadata": {
        "id": "8wEQ04Wk1cEX"
      },
      "source": [
        "var startClickConnect = function startClickConnect(){ var clickConnect = function clickConnect(){ console.log(\"Connnect Clicked - Start\"); document.querySelector(\"#top-toolbar > colab-connect-button\").shadowRoot.querySelector(\"#connect\").click(); console.log(\"Connnect Clicked - End\"); }; var intervalId = setInterval(clickConnect, 60000); var stopClickConnectHandler = function stopClickConnect() { console.log(\"Connnect Clicked Stopped - Start\"); clearInterval(intervalId); console.log(\"Connnect Clicked Stopped - End\"); }; return stopClickConnectHandler; }; var stopClickConnect = startClickConnect();"
      ],
      "execution_count": null,
      "outputs": []
    }
  ]
}